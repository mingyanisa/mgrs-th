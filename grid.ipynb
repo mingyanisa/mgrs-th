{
 "metadata": {
  "language_info": {
   "codemirror_mode": {
    "name": "ipython",
    "version": 3
   },
   "file_extension": ".py",
   "mimetype": "text/x-python",
   "name": "python",
   "nbconvert_exporter": "python",
   "pygments_lexer": "ipython3",
   "version": "3.8.5"
  },
  "orig_nbformat": 2,
  "kernelspec": {
   "name": "python3",
   "display_name": "Python 3.8.5 64-bit ('env': venv)",
   "metadata": {
    "interpreter": {
     "hash": "905a7e7ab3a14c9b6434a6f9b43ce21f30efd47bea832a3f409d6779f3d870e8"
    }
   }
  }
 },
 "nbformat": 4,
 "nbformat_minor": 2,
 "cells": [
  {
   "cell_type": "code",
   "execution_count": 26,
   "metadata": {},
   "outputs": [],
   "source": [
    "regions={\n",
    "    \"เหนือ\":[\"เชียงราย\",\"เชียงใหม่\",\"น่าน\",\"พะเยา\",\"แพร่\",\"แม่ฮ่องสอน\",\"ลำปาง\",\"ลำพูน\",\"อุตรดิตถ์\"],\n",
    "    \"อีสาน\":[\"กาฬสินธุ์\",\"ขอนแก่น\",\"ชัยภูมิ\",\"นครพนม\",\"นครราชสีมา\",\"บึงกาฬ\",\"บุรีรัมย์\",\"มหาสารคาม\",\"มุกดาหาร\",\"ยโสธร\",\"ร้อยเอ็ด\",\"เลย\",\"สกลนคร\",\"สุรินทร์\",\"ศรีสะเกษ\",\"หนองคาย\",\"หนองบัวลำภู\",\"อุดรธานี\",\"อุบลราชธานี\",\"อำนาจเจริญ\"],\n",
    "    \"กลาง\":[\"กรุงเทพมหานคร\",\"กำแพงเพชร\",\"ชัยนาท\",\"นครนายก\",\"นครปฐม\",\"นครสวรรค์\",\"นนทบุรี\",\"ปทุมธานี\",\"พระนครศรีอยุธยา\",\"พิจิตร\",\"พิษณุโลก\",\"เพชรบูรณ์\",\"ลพบุรี\",\"สมุทรปราการ\",\"สมุทรสงคราม\",\"สมุทรสาคร\",\"สิงห์บุรี\",\"สุโขทัย\",\"สุพรรณบุรี\",\"สระบุรี\",\"อ่างทอง\",\"อุทัยธานี\"],\n",
    "    \"ตะวันออก\":[\"จันทบุรี\",\"ฉะเชิงเทรา\",\"ชลบุรี\",\"ตราด\",\"ปราจีนบุรี\",\"ระยอง\",\"สระแก้ว\"],\n",
    "    \"ตะวันตก\":[\"กาญจนบุรี\",\"ตาก\",\"ประจวบคีรีขันธ์\",\"เพชรบุรี\",\"ราชบุรี\"],\n",
    "    \"ใต้\":[\"กระบี่\",\"ชุมพร\",\"ตรัง\",\"นครศรีธรรมราช\",\"นราธิวาส\",\"ปัตตานี\",\"พังงา\",\"พัทลุง\",\"ภูเก็ต\",\"ระนอง\",\"สตูล\",\"สงขลา\",\"สุราษฎร์ธานี\",\"ยะลา\"]\n",
    "}"
   ]
  },
  {
   "cell_type": "code",
   "execution_count": 27,
   "metadata": {},
   "outputs": [
    {
     "output_type": "stream",
     "name": "stdout",
     "text": [
      "Number of province: 77\n"
     ]
    }
   ],
   "source": [
    "import json\n",
    "\n",
    "with open('./result/province_grid.json', 'r') as r:\n",
    "    province = json.load(r)\n",
    "print(\"Number of province:\",len(province.keys()))\n",
    "    "
   ]
  },
  {
   "cell_type": "code",
   "execution_count": 29,
   "metadata": {
    "tags": []
   },
   "outputs": [
    {
     "output_type": "stream",
     "name": "stdout",
     "text": [
      "{'เหนือ': ['47QMB', '47QNV', '47QQB', '47QNC', '47QPV', '47QMA', '47QQA', '47QQV', '47QPU', '47QNA', '47QLV', '47QMV', '47QLA', '47QPC', '47QPB', '47QPA', '47QNB', '47QLB'], 'อีสาน': ['48PWB', '48PTB', '47PQR', '48PUA', '48QTE', '48PWC', '48PUC', '48QWC', '48PSC', '48PTA', '47QQT', '47QRU', '48QVC', '48QUC', '47PRT', '47QQA', '47PQT', '47PRR', '48QUD', '48QSE', '48PVC', '48QVE', '48PTC', '48PVB', '47PQS', '48PWA', '47QQV', '48PSA', '48QSD', '48QVD', '48QTC', '48QTD', '48QVF', '47QQU', '48QUF', '47QPV', '48PVA', '48QTF', '47QRV', '48QUE', '48PUB', '48QSF', '47QRA'], 'กลาง': ['47QNV', '47PNR', '47PQR', '47QNU', '47QQT', '47PPQ', '47PPS', '47QPU', '47PMS', '47PQT', '47PQS', '47QQV', '47QNT', '47QPT', '47PNT', '47PNQ', '47QPV', '47QQU', '47PPT', '47PQQ', '47PPR', '47PNS'], 'ตะวันออก': ['47PQP', '47PQS', '48PTV', '47PQQ', '48PSA', '47PQR', '47PRQ', '48PSV', '48PTA', '48PTT', '47PRR', '48PTU'], 'ตะวันตก': ['47QNV', '47PNR', '47QNU', '47QMV', '47PPQ', '47PNP', '47PMR', '47PMS', '47QMU', '47PPP', '47QNT', '47PNT', '47PNQ', '47QMT', '47PNN', '47PPR', '47QLV', '47PNS', '47PMT'], 'ใต้': ['47NRH', '47NNH', '47NQG', '47NMJ', '47PNL', '47PNM', '47NRG', '47PML', '47PPL', '47NPJ', '48NSM', '47NPH', '47NQH', '47NNJ']}\n"
     ]
    }
   ],
   "source": [
    "region_tile={}\n",
    "for reg, provinces in regions.items():\n",
    "    for name in provinces:\n",
    "        if reg not in region_tile.keys():\n",
    "            region_tile[reg] = []\n",
    "        region_tile[reg] = list(set(region_tile[reg]+province[name]))\n",
    "print(region_tile)\n",
    "\n",
    "with open('./result/region_grid.json', 'w') as fp:\n",
    "    json.dump(region_tile, fp, ensure_ascii=False)\n",
    "    "
   ]
  },
  {
   "cell_type": "code",
   "execution_count": null,
   "metadata": {},
   "outputs": [],
   "source": []
  }
 ]
}